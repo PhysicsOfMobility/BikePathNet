{
 "cells": [
  {
   "cell_type": "code",
   "id": "initial_id",
   "metadata": {
    "collapsed": true
   },
   "source": [
    "import json\n",
    "import sys\n",
    "import osmnx as ox\n",
    "from ast import literal_eval\n",
    "from os.path import join\n",
    "from setup_paths import paths\n",
    "sys.path.append(paths[\"project_dir\"])"
   ],
   "outputs": [],
   "execution_count": null
  },
  {
   "metadata": {},
   "cell_type": "code",
   "source": [
    "def get_yearly_added(yearly):\n",
    "    yearly_added = {year: set(yearly[year])-set(yearly[year-1]) for year in range(1,51)}\n",
    "    segment_year = {segment: year for year, year_segments in yearly_added.items() for segment in year_segments}\n",
    "    \n",
    "    return yearly_added, segment_year"
   ],
   "id": "427cf0edbb791b50",
   "outputs": [],
   "execution_count": null
  },
  {
   "metadata": {},
   "cell_type": "code",
   "source": [
    "def load_orderings(base, new, base_mode=\"LPGreedy\", new_mode=\"TA\"):\n",
    "    with open(join(paths[\"output_folder\"], base, f\"{base}_order_{base_mode}.json\"), \"r\") as f:\n",
    "        base_order = json.load(f)\n",
    "    base_segment_place = {seg: idx+1 for idx, seg in enumerate(base_order)}\n",
    "    \n",
    "    with open(join(paths[\"output_folder\"], new, f\"{new}_order_yearly_{new_mode}.json\"), \"r\") as f:\n",
    "        new_yearly = json.load(f)\n",
    "    new_yearly = {int(k[4:]): v for k, v in new_yearly.items()}\n",
    "    new_yearly[0] = []\n",
    "    \n",
    "    new_yearly_added, new_segment_year = get_yearly_added(new_yearly)\n",
    "    \n",
    "    return base_order, base_segment_place, new_yearly_added"
   ],
   "id": "13536f1843c0e5a9",
   "outputs": [],
   "execution_count": null
  },
  {
   "metadata": {},
   "cell_type": "code",
   "source": [
    "def segment_ordering(base, new):\n",
    "    base_order, base_segment_place, new_yearly_added = load_orderings(base, new)\n",
    "    \n",
    "    new_segment_order = []\n",
    "\n",
    "    for year in range(1, 51):\n",
    "        new_segment_place_peryear = {seg: base_segment_place[seg] for seg in new_yearly_added[year]}\n",
    "        year_reordered = list(sorted(new_segment_place_peryear, key=new_segment_place_peryear.get))\n",
    "        new_segment_order.extend(year_reordered)\n",
    "    \n",
    "    unused_segments = set(base_order) - set(new_segment_order)\n",
    "    \n",
    "    return new_segment_order, unused_segments"
   ],
   "id": "bd9e79c049fb62d7",
   "outputs": [],
   "execution_count": null
  },
  {
   "metadata": {},
   "cell_type": "code",
   "source": "saves = {v: v for v in [f\"cph_dtu_noisy_demand_{i}\" for i in range(1, 11)] + [f\"cph_dtu_noisy_costs_{i}\" for i in range(1, 11)] + [f\"cph_dtu_noisy_speeds_{i}\" for i in range(1, 11)]}",
   "id": "586eb392a30a6379",
   "outputs": [],
   "execution_count": null
  },
  {
   "metadata": {},
   "cell_type": "code",
   "source": [
    "g = ox.load_graphml(join(paths[\"input_folder\"], \"cph_dtu\", \"cph_dtu.graphml\"))\n",
    "for u, v, d in g.edges(data=True):\n",
    "    d[\"ex_inf\"] = literal_eval(d[\"ex_inf\"])\n",
    "    d[\"seg_id\"] = literal_eval(d[\"seg_id\"])"
   ],
   "id": "ba15ffe963b4cfc9",
   "outputs": [],
   "execution_count": null
  },
  {
   "metadata": {},
   "cell_type": "code",
   "source": [
    "for new_save, base_save in saves.items():\n",
    "    n_ordering, u_segments = segment_ordering(base_save, new_save)\n",
    "    \n",
    "    with open(join(paths[\"output_folder\"], new_save, f\"{new_save}_order_TA.json\"), \"w\") as f:\n",
    "      json.dump(n_ordering, f)\n",
    "        \n",
    "    add_blocked_edges = []\n",
    "    for u, v, d in g.edges(data=True):\n",
    "        if d[\"seg_id\"] in u_segments:\n",
    "            add_blocked_edges.append((u, v))\n",
    "    with open(join(paths[\"input_folder\"], new_save, f\"{new_save}_add_blocked_edges_TA.json\"), \"w\") as f:\n",
    "          json.dump(add_blocked_edges, f)"
   ],
   "id": "c8b2816552433932",
   "outputs": [],
   "execution_count": null
  }
 ],
 "metadata": {
  "kernelspec": {
   "display_name": "Python 3",
   "language": "python",
   "name": "python3"
  },
  "language_info": {
   "codemirror_mode": {
    "name": "ipython",
    "version": 2
   },
   "file_extension": ".py",
   "mimetype": "text/x-python",
   "name": "python",
   "nbconvert_exporter": "python",
   "pygments_lexer": "ipython2",
   "version": "2.7.6"
  }
 },
 "nbformat": 4,
 "nbformat_minor": 5
}
